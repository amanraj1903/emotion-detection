{
 "cells": [
  {
   "cell_type": "code",
   "execution_count": 1,
   "id": "3e38bf1f",
   "metadata": {},
   "outputs": [],
   "source": [
    "import pandas as pd\n",
    "import numpy as np\n",
    "\n",
    "# text preprocessing\n",
    "from nltk.tokenize import word_tokenize\n",
    "import re\n",
    "\n",
    "# preparing input to our model\n",
    "from keras.preprocessing.text import Tokenizer\n",
    "# from keras.preprocessing.sequence import pad_sequences\n",
    "from keras_preprocessing.sequence import pad_sequences\n",
    "# from keras.utils import to_categorical\n",
    "from tensorflow.keras.utils import to_categorical\n",
    "\n",
    "# keras layers\n",
    "from keras.models import Sequential\n",
    "from keras.layers import Embedding, Bidirectional, LSTM, GRU, Dense"
   ]
  },
  {
   "cell_type": "code",
   "execution_count": null,
   "id": "b44eb8e2",
   "metadata": {},
   "outputs": [],
   "source": []
  },
  {
   "cell_type": "code",
   "execution_count": 2,
   "id": "f15ab5bd",
   "metadata": {},
   "outputs": [],
   "source": [
    "# Number of labels: joy, anger, fear, sadness, neutral\n",
    "num_classes = 5\n",
    "\n",
    "# Number of dimensions for word embedding\n",
    "embed_num_dims = 300\n",
    "\n",
    "# Max input length (max number of words) \n",
    "max_seq_len = 500\n",
    "\n",
    "class_names = ['joy', 'fear', 'anger', 'sadness', 'neutral']"
   ]
  },
  {
   "cell_type": "code",
   "execution_count": 3,
   "id": "4507ca8d",
   "metadata": {},
   "outputs": [],
   "source": [
    "import os\n",
    "os.chdir('C:\\\\Users\\\\Dell\\\\Desktop\\\\Emotion_detection\\\\data')"
   ]
  },
  {
   "cell_type": "code",
   "execution_count": 4,
   "id": "539e6c6a",
   "metadata": {},
   "outputs": [
    {
     "name": "stderr",
     "output_type": "stream",
     "text": [
      "C:\\Users\\Dell\\AppData\\Local\\Temp\\ipykernel_37608\\1128553015.py:10: FutureWarning: The frame.append method is deprecated and will be removed from pandas in a future version. Use pandas.concat instead.\n",
      "  data = data_train.append(data_test, ignore_index=True)\n"
     ]
    }
   ],
   "source": [
    "data_train = pd.read_csv('data_train.csv', encoding='utf-8')\n",
    "data_test = pd.read_csv('data_test.csv', encoding='utf-8')\n",
    "\n",
    "X_train = data_train.Text\n",
    "X_test = data_test.Text\n",
    "\n",
    "y_train = data_train.Emotion\n",
    "y_test = data_test.Emotion\n",
    "\n",
    "data = data_train.append(data_test, ignore_index=True)"
   ]
  },
  {
   "cell_type": "code",
   "execution_count": 5,
   "id": "a0e86b04",
   "metadata": {},
   "outputs": [],
   "source": [
    "# print(data.Emotion.value_counts())\n",
    "# data.head(6)"
   ]
  },
  {
   "cell_type": "code",
   "execution_count": 6,
   "id": "e8c99b76",
   "metadata": {},
   "outputs": [],
   "source": [
    "def clean_text(data):\n",
    "    \n",
    "    # remove hashtags and @usernames\n",
    "    data = re.sub(r\"(#[\\d\\w\\.]+)\", '', data)\n",
    "    data = re.sub(r\"(@[\\d\\w\\.]+)\", '', data)\n",
    "    \n",
    "    # tekenization using nltk\n",
    "    data = word_tokenize(data)\n",
    "    \n",
    "    return data"
   ]
  },
  {
   "cell_type": "code",
   "execution_count": 7,
   "id": "26afd2ed",
   "metadata": {},
   "outputs": [
    {
     "name": "stderr",
     "output_type": "stream",
     "text": [
      "[nltk_data] Downloading package punkt to\n",
      "[nltk_data]     C:\\Users\\Dell\\AppData\\Roaming\\nltk_data...\n",
      "[nltk_data]   Package punkt is already up-to-date!\n"
     ]
    }
   ],
   "source": [
    "\n",
    "import nltk\n",
    "nltk.download('punkt')\n",
    "texts = [' '.join(clean_text(text)) for text in data.Text]\n",
    "\n",
    "texts_train = [' '.join(clean_text(text)) for text in X_train]\n",
    "texts_test = [' '.join(clean_text(text)) for text in X_test]"
   ]
  },
  {
   "cell_type": "code",
   "execution_count": 8,
   "id": "f0650be2",
   "metadata": {},
   "outputs": [],
   "source": [
    "# print(texts_train[92])"
   ]
  },
  {
   "cell_type": "code",
   "execution_count": 9,
   "id": "b36e2258",
   "metadata": {},
   "outputs": [],
   "source": [
    "tokenizer = Tokenizer()\n",
    "tokenizer.fit_on_texts(texts)\n",
    "\n",
    "sequence_train = tokenizer.texts_to_sequences(texts_train)\n",
    "sequence_test = tokenizer.texts_to_sequences(texts_test)\n",
    "\n",
    "index_of_words = tokenizer.word_index\n",
    "\n",
    "# vacab size is number of unique words + reserved 0 index for padding\n",
    "vocab_size = len(index_of_words) + 1\n",
    "\n",
    "# print('Number of unique words: {}'.format(len(index_of_words)))"
   ]
  },
  {
   "cell_type": "code",
   "execution_count": 10,
   "id": "dad6bf33",
   "metadata": {},
   "outputs": [],
   "source": [
    "X_train_pad = pad_sequences(sequence_train, maxlen = max_seq_len )\n",
    "X_test_pad = pad_sequences(sequence_test, maxlen = max_seq_len )\n",
    "\n",
    "# X_train_pad"
   ]
  },
  {
   "cell_type": "code",
   "execution_count": null,
   "id": "7bff0404",
   "metadata": {},
   "outputs": [],
   "source": []
  },
  {
   "cell_type": "code",
   "execution_count": 11,
   "id": "e1665d87",
   "metadata": {},
   "outputs": [],
   "source": [
    "import os\n",
    "os.chdir('C:\\\\Users\\\\Dell\\\\Desktop\\\\Emotion_detection\\\\data')"
   ]
  },
  {
   "cell_type": "code",
   "execution_count": 12,
   "id": "4bee0578",
   "metadata": {},
   "outputs": [],
   "source": [
    "from keras.models import load_model\n",
    "new_model = load_model('trail_model.h5')"
   ]
  },
  {
   "cell_type": "code",
   "execution_count": null,
   "id": "ca3dec8f",
   "metadata": {},
   "outputs": [],
   "source": []
  },
  {
   "cell_type": "code",
   "execution_count": null,
   "id": "435519cd",
   "metadata": {},
   "outputs": [],
   "source": []
  },
  {
   "cell_type": "code",
   "execution_count": null,
   "id": "af59f6cf",
   "metadata": {},
   "outputs": [],
   "source": []
  },
  {
   "cell_type": "code",
   "execution_count": 13,
   "id": "9f6aadd1",
   "metadata": {},
   "outputs": [],
   "source": [
    "new_model.compile(loss = 'categorical_crossentropy', optimizer = 'adam', metrics = ['accuracy'])\n",
    "# new_model.summary()\n",
    "# new_model.get_weights()"
   ]
  },
  {
   "cell_type": "code",
   "execution_count": null,
   "id": "448b9131",
   "metadata": {},
   "outputs": [],
   "source": []
  },
  {
   "cell_type": "code",
   "execution_count": null,
   "id": "5dc703e8",
   "metadata": {},
   "outputs": [],
   "source": []
  },
  {
   "cell_type": "code",
   "execution_count": 14,
   "id": "cef1801b",
   "metadata": {},
   "outputs": [
    {
     "name": "stdout",
     "output_type": "stream",
     "text": [
      "['Emotion plays a major role in influencing our behaviour', ' Life would be dreary without feelings like joy and sorrow', ' excitement and disappointment', ' love and fear', ' hope and dismay', ' Emotion adds colour and spice to life', '']\n",
      "1/1 [==============================] - 1s 879ms/step\n",
      "1/1 [==============================] - 0s 135ms/step\n",
      "1/1 [==============================] - 0s 126ms/step\n",
      "1/1 [==============================] - 0s 132ms/step\n",
      "1/1 [==============================] - 0s 128ms/step\n",
      "1/1 [==============================] - 0s 114ms/step\n",
      "1/1 [==============================] - 0s 139ms/step\n"
     ]
    },
    {
     "data": {
      "text/plain": [
       "[\"Message: ['Emotion plays a major role in influencing our behaviour']\",\n",
       " 'predicted: fear',\n",
       " \"Message: [' Life would be dreary without feelings like joy and sorrow']\",\n",
       " 'predicted: sadness',\n",
       " \"Message: [' excitement and disappointment']\",\n",
       " 'predicted: joy',\n",
       " \"Message: [' love and fear']\",\n",
       " 'predicted: fear',\n",
       " \"Message: [' hope and dismay']\",\n",
       " 'predicted: fear',\n",
       " \"Message: [' Emotion adds colour and spice to life']\",\n",
       " 'predicted: joy',\n",
       " \"Message: ['']\",\n",
       " 'predicted: neutral']"
      ]
     },
     "execution_count": 14,
     "metadata": {},
     "output_type": "execute_result"
    }
   ],
   "source": [
    "# import time\n",
    "import re\n",
    "# sentence = 'I really like python. it is worst day'\n",
    "sentence = 'Emotion plays a major role in influencing our behaviour. Life would be dreary without feelings like joy and sorrow, excitement and disappointment, love and fear, hope and dismay. Emotion adds colour and spice to life.'\n",
    "def prediction_by_list(sentence):\n",
    "# sentence = 'I really like python. it is worst day'\n",
    "  sen = re.split(\"(?<!\\d)[,.?](?!\\d)\",sentence)\n",
    "  pred_result=[]\n",
    "  print(sen)\n",
    "  result_message=[]\n",
    "\n",
    "\n",
    "\n",
    "  for i in sen:\n",
    "    messag = i\n",
    "    # print(messag)\n",
    "    message=[]\n",
    "    message.append(i)\n",
    "    \n",
    "    # print(message)\n",
    "    # lis = \n",
    "    seq = tokenizer.texts_to_sequences(message)\n",
    "    padded = pad_sequences(seq, maxlen=max_seq_len)\n",
    "\n",
    "#     start_time = time.time()\n",
    "    pred = new_model.predict(padded)\n",
    "\n",
    "    a=('Message: ' + str(message))\n",
    "    b=('predicted: {}'.format(class_names[np.argmax(pred)]))\n",
    "    pred_result.append(b)\n",
    "    result_message.append(a)\n",
    "\n",
    "  def countList(result_message, pred_result):\n",
    "    return [sub[item] for item in range(len(pred_result))\n",
    "                      for sub in [result_message, pred_result]]\n",
    "  \n",
    "  return(countList(result_message, pred_result))\n",
    "  \n",
    "prediction_by_list(sentence)"
   ]
  },
  {
   "cell_type": "code",
   "execution_count": null,
   "id": "bc5caf57",
   "metadata": {},
   "outputs": [],
   "source": []
  },
  {
   "cell_type": "code",
   "execution_count": null,
   "id": "5b18426d",
   "metadata": {},
   "outputs": [],
   "source": []
  },
  {
   "cell_type": "code",
   "execution_count": null,
   "id": "92df3514",
   "metadata": {},
   "outputs": [],
   "source": []
  },
  {
   "cell_type": "code",
   "execution_count": null,
   "id": "a04ff511",
   "metadata": {},
   "outputs": [],
   "source": []
  },
  {
   "cell_type": "code",
   "execution_count": null,
   "id": "3dcc5450",
   "metadata": {},
   "outputs": [],
   "source": []
  },
  {
   "cell_type": "code",
   "execution_count": null,
   "id": "30e08b0c",
   "metadata": {},
   "outputs": [],
   "source": []
  },
  {
   "cell_type": "code",
   "execution_count": null,
   "id": "0621c37f",
   "metadata": {},
   "outputs": [],
   "source": []
  },
  {
   "cell_type": "code",
   "execution_count": null,
   "id": "c561a699",
   "metadata": {},
   "outputs": [],
   "source": []
  },
  {
   "cell_type": "code",
   "execution_count": null,
   "id": "f5b7e4f1",
   "metadata": {},
   "outputs": [],
   "source": []
  },
  {
   "cell_type": "code",
   "execution_count": null,
   "id": "9175e303",
   "metadata": {},
   "outputs": [],
   "source": []
  },
  {
   "cell_type": "code",
   "execution_count": null,
   "id": "254501cc",
   "metadata": {},
   "outputs": [],
   "source": []
  },
  {
   "cell_type": "code",
   "execution_count": null,
   "id": "54f56550",
   "metadata": {},
   "outputs": [],
   "source": []
  },
  {
   "cell_type": "code",
   "execution_count": null,
   "id": "9e8666aa",
   "metadata": {},
   "outputs": [],
   "source": []
  }
 ],
 "metadata": {
  "kernelspec": {
   "display_name": "Python 3 (ipykernel)",
   "language": "python",
   "name": "python3"
  },
  "language_info": {
   "codemirror_mode": {
    "name": "ipython",
    "version": 3
   },
   "file_extension": ".py",
   "mimetype": "text/x-python",
   "name": "python",
   "nbconvert_exporter": "python",
   "pygments_lexer": "ipython3",
   "version": "3.9.12"
  }
 },
 "nbformat": 4,
 "nbformat_minor": 5
}
